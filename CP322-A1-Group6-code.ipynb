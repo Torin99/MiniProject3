{
 "cells": [
  {
   "cell_type": "markdown",
   "id": "ecbf00d2",
   "metadata": {},
   "source": [
    "# <div align=\"center\">CP322-A Mini-Project 3: Machine Learning</div>\n",
    "## <div align=\"center\">Group 6</div>\n",
    "### <div align=\"center\">due on 10-Dec-2023 at 11:30 PM</div>"
   ]
  },
  {
   "cell_type": "markdown",
   "id": "c52edb19",
   "metadata": {},
   "source": [
    "Imports:"
   ]
  },
  {
   "cell_type": "code",
   "execution_count": 1,
   "id": "18f51c49",
   "metadata": {},
   "outputs": [],
   "source": [
    "import torch\n",
    "import torch.nn as nn\n",
    "import torch.optim as optim\n",
    "import torchvision\n",
    "from torchvision import transforms\n",
    "from torch.utils.data import DataLoader"
   ]
  },
  {
   "cell_type": "code",
   "execution_count": 2,
   "metadata": {},
   "outputs": [
    {
     "name": "stdout",
     "output_type": "stream",
     "text": [
      "Files already downloaded and verified\n",
      "Files already downloaded and verified\n"
     ]
    }
   ],
   "source": [
    "# Define transformations for the dataset\n",
    "transform = transforms.Compose([\n",
    "    transforms.ToTensor(),\n",
    "    transforms.Normalize((0.5, 0.5, 0.5), (0.5, 0.5, 0.5))  # Normalize the data\n",
    "])\n",
    "\n",
    "# Load CIFAR-10 dataset\n",
    "trainset = torchvision.datasets.CIFAR10(root='./data', train=True, download=True, transform=transform)\n",
    "testset = torchvision.datasets.CIFAR10(root='./data', train=False, download=True, transform=transform)\n",
    "\n",
    "# Set up data loaders\n",
    "train_loader = DataLoader(trainset, batch_size=64, shuffle=True)\n",
    "test_loader = DataLoader(testset, batch_size=64, shuffle=False)"
   ]
  },
  {
   "cell_type": "code",
   "execution_count": 6,
   "metadata": {},
   "outputs": [
    {
     "name": "stdout",
     "output_type": "stream",
     "text": [
      "Epoch 1, Mini-batch 200, Loss: 2.294188404083252\n",
      "Epoch 1, Mini-batch 400, Loss: 2.2666822588443756\n",
      "Epoch 1, Mini-batch 600, Loss: 2.19946857213974\n",
      "Epoch 2, Mini-batch 200, Loss: 2.0114334988594056\n",
      "Epoch 2, Mini-batch 400, Loss: 1.9269739305973053\n",
      "Epoch 2, Mini-batch 600, Loss: 1.8690973901748658\n",
      "Epoch 3, Mini-batch 200, Loss: 1.793434293270111\n",
      "Epoch 3, Mini-batch 400, Loss: 1.7652613508701325\n",
      "Epoch 3, Mini-batch 600, Loss: 1.7182476383447647\n",
      "Epoch 4, Mini-batch 200, Loss: 1.665785828232765\n",
      "Epoch 4, Mini-batch 400, Loss: 1.6567861229181289\n",
      "Epoch 4, Mini-batch 600, Loss: 1.6320060807466508\n",
      "Epoch 5, Mini-batch 200, Loss: 1.5910169661045075\n",
      "Epoch 5, Mini-batch 400, Loss: 1.5668545490503312\n",
      "Epoch 5, Mini-batch 600, Loss: 1.5572810280323028\n",
      "Epoch 6, Mini-batch 200, Loss: 1.5216368412971497\n",
      "Epoch 6, Mini-batch 400, Loss: 1.4972745740413667\n",
      "Epoch 6, Mini-batch 600, Loss: 1.5027976620197296\n",
      "Epoch 7, Mini-batch 200, Loss: 1.4545390498638153\n",
      "Epoch 7, Mini-batch 400, Loss: 1.451676123738289\n",
      "Epoch 7, Mini-batch 600, Loss: 1.4145766180753707\n",
      "Epoch 8, Mini-batch 200, Loss: 1.3833420032262802\n",
      "Epoch 8, Mini-batch 400, Loss: 1.369637708067894\n",
      "Epoch 8, Mini-batch 600, Loss: 1.3774019074440003\n",
      "Epoch 9, Mini-batch 200, Loss: 1.3278686600923537\n",
      "Epoch 9, Mini-batch 400, Loss: 1.3399346733093263\n",
      "Epoch 9, Mini-batch 600, Loss: 1.3336759328842163\n",
      "Epoch 10, Mini-batch 200, Loss: 1.2957221925258637\n",
      "Epoch 10, Mini-batch 400, Loss: 1.2866626757383346\n",
      "Epoch 10, Mini-batch 600, Loss: 1.2819247356057166\n",
      "Finished Training\n",
      "Accuracy of the network on the test images: 52.26%\n"
     ]
    }
   ],
   "source": [
    "class ANN(nn.Module):\n",
    "    def __init__(self):\n",
    "        super(ANN, self).__init__()\n",
    "        self.fc1 = nn.Linear(32 * 32 * 3, 512)  # Input size is 32x32x3, output size is 512\n",
    "        self.fc2 = nn.Linear(512, 256)\n",
    "        self.fc3 = nn.Linear(256, 128)\n",
    "        self.fc4 = nn.Linear(128, 10)  # Output size is 10 (number of classes in CIFAR-10)\n",
    "\n",
    "    def forward(self, x):\n",
    "        x = x.view(-1, 32 * 32 * 3)  # Flatten the input\n",
    "        x = torch.relu(self.fc1(x)) \n",
    "        x = torch.relu(self.fc2(x))\n",
    "        x = torch.relu(self.fc3(x))\n",
    "        x = self.fc4(x)\n",
    "        return x\n",
    "\n",
    "model = ANN()\n",
    "criterion = nn.CrossEntropyLoss()\n",
    "optimizer = optim.SGD(model.parameters(), lr=0.001, momentum=0.9)\n",
    "\n",
    "# Training the model\n",
    "epochs = 10\n",
    "for epoch in range(epochs):\n",
    "    running_loss = 0.0\n",
    "    for i, data in enumerate(train_loader, 0):\n",
    "        inputs, labels = data\n",
    "        optimizer.zero_grad()\n",
    "\n",
    "        outputs = model(inputs)\n",
    "        loss = criterion(outputs, labels)\n",
    "        loss.backward()\n",
    "        optimizer.step()\n",
    "\n",
    "        running_loss += loss.item()\n",
    "        if i % 200 == 199:  # Print every 200 mini-batches\n",
    "            print(f'Epoch {epoch + 1}, Mini-batch {i + 1}, Loss: {running_loss / 200}')\n",
    "            running_loss = 0.0\n",
    "\n",
    "print('Finished Training')\n",
    "\n",
    "# Evaluate the model on the test set\n",
    "correct = 0\n",
    "total = 0\n",
    "with torch.no_grad():\n",
    "    for data in test_loader:\n",
    "        images, labels = data\n",
    "        outputs = model(images)\n",
    "        _, predicted = torch.max(outputs.data, 1)\n",
    "        total += labels.size(0)\n",
    "        correct += (predicted == labels).sum().item()\n",
    "\n",
    "accuracy = correct / total\n",
    "print(f'Accuracy of the network on the test images: {100 * accuracy}%')"
   ]
  }
 ],
 "metadata": {
  "kernelspec": {
   "display_name": "Python 3 (ipykernel)",
   "language": "python",
   "name": "python3"
  },
  "language_info": {
   "codemirror_mode": {
    "name": "ipython",
    "version": 3
   },
   "file_extension": ".py",
   "mimetype": "text/x-python",
   "name": "python",
   "nbconvert_exporter": "python",
   "pygments_lexer": "ipython3",
   "version": "3.11.4"
  }
 },
 "nbformat": 4,
 "nbformat_minor": 5
}
